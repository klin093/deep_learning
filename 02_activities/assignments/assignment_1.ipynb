{
 "cells": [
  {
   "cell_type": "markdown",
   "id": "ba8ab56f",
   "metadata": {},
   "source": [
    "# Advanced Image Classification with ImageNet"
   ]
  },
  {
   "cell_type": "markdown",
   "id": "7c630244b8fe2847",
   "metadata": {
    "collapsed": false
   },
   "source": [
    "In this assignment, you will be asked to develop a convolutional neural network (CNN) to classify images from the CIFAR-100 dataset. At each step, you'll be guided through the process of developing a model architecture to solve a problem. Your goal is to create a CNN that attains at least 55% accuracy on the validation set.\n",
    "\n",
    "### The CIFAR-100 Dataset\n",
    "\n",
    "The [CIFAR-100 dataset](https://www.cs.toronto.edu/~kriz/cifar.html) consists of 60000 32x32 colour images in 100 classes, with 600 images per class. There are 50000 training images and 10000 test images. The dataset is divided into five training batches and one test batch, each with 10000 images. The test batch contains exactly 1000 randomly-selected images from each class. The training batches contain the remaining images in random order, but some training batches may contain more images from one class than another. Between them, the training batches contain exactly 500 images from each class.\n",
    "\n",
    "### Tools\n",
    "\n",
    "You will use Keras with TensorFlow to develop your CNN. For this assignment, it's strongly recommended that you use a GPU to accelerate your training, or else you might find it difficult to train your network in a reasonable amount of time. If you have a computer with a GPU that you wish to use, you can follow the [TensorFlow instructions](https://www.tensorflow.org/install/) for installing TensorFlow with GPU support. Otherwise, you can use [Google Colab](https://colab.research.google.com/) to complete this assignment. Colab provides free access to GPU-enabled machines. If you run into any issues, please contact us as soon as possible so that we can help you resolve them."
   ]
  },
  {
   "cell_type": "markdown",
   "id": "fab62988ece1528d",
   "metadata": {
    "collapsed": false
   },
   "source": [
    "## Task 1: Data Exploration and Preprocessing (Complete or Incomplete)\n",
    "### 1a: Load and Explore the Dataset\n",
    "- Use the code below to download the dataset.\n",
    "- Explore the dataset: examine the shape of the training and test sets, the dimensions of the images, and the number of classes. Show a few examples from the training set."
   ]
  },
  {
   "cell_type": "code",
   "execution_count": 2,
   "id": "8820fcdc5ae52ae2",
   "metadata": {
    "ExecuteTime": {
     "start_time": "2024-01-26T17:04:08.432758Z"
    },
    "collapsed": false,
    "is_executing": true
   },
   "outputs": [
    {
     "name": "stdout",
     "output_type": "stream",
     "text": [
      "Downloading data from https://www.cs.toronto.edu/~kriz/cifar-100-python.tar.gz\n",
      "169001437/169001437 [==============================] - 30s 0us/step\n"
     ]
    }
   ],
   "source": [
    "from keras.datasets import cifar100\n",
    "\n",
    "# Load the CIFAR-100 dataset\n",
    "(x_train, y_train), (x_test, y_test) = cifar100.load_data(label_mode='fine')"
   ]
  },
  {
   "cell_type": "code",
   "execution_count": 8,
   "id": "a386b4072078138f",
   "metadata": {
    "collapsed": false
   },
   "outputs": [
    {
     "name": "stdout",
     "output_type": "stream",
     "text": [
      "100\n"
     ]
    }
   ],
   "source": [
    "class_names = [\n",
    "    \"apple\", \"aquarium_fish\", \"baby\", \"bear\", \"beaver\", \"bed\", \"bee\", \"beetle\", \"bicycle\", \"bottle\",\n",
    "    \"bowl\", \"boy\", \"bridge\", \"bus\", \"butterfly\", \"camel\", \"can\", \"castle\", \"caterpillar\", \"cattle\",\n",
    "    \"chair\", \"chimpanzee\", \"clock\", \"cloud\", \"cockroach\", \"couch\", \"crab\", \"crocodile\", \"cup\", \"dinosaur\",\n",
    "    \"dolphin\", \"elephant\", \"flatfish\", \"forest\", \"fox\", \"girl\", \"hamster\", \"house\", \"kangaroo\", \"keyboard\",\n",
    "    \"lamp\", \"lawn_mower\", \"leopard\", \"lion\", \"lizard\", \"lobster\", \"man\", \"maple_tree\", \"motorcycle\", \"mountain\",\n",
    "    \"mouse\", \"mushroom\", \"oak_tree\", \"orange\", \"orchid\", \"otter\", \"palm_tree\", \"pear\", \"pickup_truck\", \"pine_tree\",\n",
    "    \"plain\", \"plate\", \"poppy\", \"porcupine\", \"possum\", \"rabbit\", \"raccoon\", \"ray\", \"road\", \"rocket\",\n",
    "    \"rose\", \"sea\", \"seal\", \"shark\", \"shrew\", \"skunk\", \"skyscraper\", \"snail\", \"snake\", \"spider\",\n",
    "    \"squirrel\", \"streetcar\", \"sunflower\", \"sweet_pepper\", \"table\", \"tank\", \"telephone\", \"television\", \"tiger\", \"tractor\",\n",
    "    \"train\", \"trout\", \"tulip\", \"turtle\", \"wardrobe\", \"whale\", \"willow_tree\", \"wolf\", \"woman\", \"worm\"\n",
    "]\n",
    "\n",
    "print(len(class_names))"
   ]
  },
  {
   "cell_type": "code",
   "execution_count": 21,
   "id": "36ca8354",
   "metadata": {},
   "outputs": [
    {
     "data": {
      "text/plain": [
       "<matplotlib.image.AxesImage at 0x1d93f056280>"
      ]
     },
     "execution_count": 21,
     "metadata": {},
     "output_type": "execute_result"
    },
    {
     "data": {
      "image/png": "[encoded data removed]",
      "text/plain": [
       "<Figure size 640x480 with 1 Axes>"
      ]
     },
     "metadata": {},
     "output_type": "display_data"
    }
   ],
   "source": [
    "x_train.shape\n",
    "\n",
    "import matplotlib.pyplot as plt\n",
    "\n",
    "plt.imshow(x_train[999])\n"
   ]
  },
  {
   "cell_type": "markdown",
   "id": "ad49291da3a819ea",
   "metadata": {
    "collapsed": false
   },
   "source": [
    "### 1b: Data Preprocessing\n",
    "- With the data downloaded, it's time to preprocess it. Start by normalizing the images so that they all have pixel values in the range [0, 1].\n",
    "- Next, convert the labels to one-hot encoded vectors.\n",
    "- Finally, split the training set into training and validation sets. Use 80% of the training set for training and the remaining 20% for validation."
   ]
  },
  {
   "cell_type": "code",
   "execution_count": null,
   "id": "b18c10172fa72d0c",
   "metadata": {
    "collapsed": false
   },
   "outputs": [],
   "source": [
    "# Your Code Here"
   ]
  },
  {
   "cell_type": "markdown",
   "id": "5993757f08c89db7",
   "metadata": {
    "collapsed": false
   },
   "source": [
    "## Task 2: Model Development (Complete or Incomplete)\n",
    "### Task 2a: Create a Baseline CNN Model\n",
    "- Design a CNN architecture. Your architecture should use convolutional layers, max pooling layers, and dense layers. You can use any number of layers, and you can experiment with different numbers of filters, filter sizes, strides, padding, etc. The design doesn't need to be perfect, but it should be unique to you.\n",
    "- Print out the model summary."
   ]
  },
  {
   "cell_type": "code",
   "execution_count": null,
   "id": "c9edafdaf887b8d5",
   "metadata": {
    "collapsed": false
   },
   "outputs": [],
   "source": [
    "# Your Code Here"
   ]
  },
  {
   "cell_type": "markdown",
   "id": "546324c007c73db5",
   "metadata": {
    "collapsed": false
   },
   "source": [
    "### Task 2b: Compile the model\n",
    "\n",
    "- Select an appropriate loss function and optimizer for your model. These can be ones we have looked at already, or they can be different. \n",
    "- Briefly explain your choices (one or two sentences each).\n",
    "- <b>Loss function:</b> ______\n",
    "- <b>Optimizer:</b> ______"
   ]
  },
  {
   "cell_type": "code",
   "execution_count": null,
   "id": "ab39f4ba69d684e9",
   "metadata": {
    "collapsed": false
   },
   "outputs": [],
   "source": [
    "# Your Code Here"
   ]
  },
  {
   "cell_type": "markdown",
   "id": "653fba928413b9f6",
   "metadata": {
    "collapsed": false
   },
   "source": [
    "## Task 3: Model Training and Evaluation (Complete or Incomplete)\n",
    "### Task 3a: Train the Model\n",
    "\n",
    "- Train your model for an appropriate number of epochs. Explain your choice of the number of epochs used - you can change this number before submitting your assignment.\n",
    "- Use a batch size of 32.\n",
    "- Use the validation set for validation."
   ]
  },
  {
   "cell_type": "code",
   "execution_count": null,
   "id": "9de74f274ad08546",
   "metadata": {
    "collapsed": false
   },
   "outputs": [],
   "source": [
    "# Your Code Here"
   ]
  },
  {
   "cell_type": "markdown",
   "id": "b48615c26b99d2e9",
   "metadata": {
    "collapsed": false
   },
   "source": [
    "### Task 3b: Accuracy and other relevant metrics on the test set\n",
    "\n",
    "- Report the accuracy of your model on the test set.\n",
    "- While accuracy is a good metric, there are many other ways to numerically evaluate a model. Report at least one other metric, and explain what it measures and how it is calculated.\n",
    "\n",
    "- <b>Accuracy:</b> ______\n",
    "- <b>Other metric:</b> ______\n",
    "- <b>Reason for selection:</b> _____\n",
    "- <b>Value of metric:</b> ______\n",
    "- <b>Interpretation of metric value:</b> ______"
   ]
  },
  {
   "cell_type": "code",
   "execution_count": null,
   "id": "f670665fda92fb0e",
   "metadata": {
    "ExecuteTime": {
     "end_time": "2024-01-26T17:49:39.016880Z",
     "start_time": "2024-01-26T17:49:39.012100Z"
    },
    "collapsed": false
   },
   "outputs": [],
   "source": [
    "# Your Code Here"
   ]
  },
  {
   "cell_type": "markdown",
   "id": "58d2d836d4e8ce99",
   "metadata": {
    "collapsed": false
   },
   "source": [
    "### Task 3c: Visualize the model's learning\n",
    "\n",
    "- Plot the training accuracy and validation accuracy with respect to epochs.\n",
    "- Select an image that the model correctly classified in the test set, and an image that the model incorrectly classified in the test set. Plot the images and report the model's classification probabilities for each.\n",
    "- Briefly discuss the results. What do the plots show? Do the results make sense? What do the classification probabilities indicate?"
   ]
  },
  {
   "cell_type": "code",
   "execution_count": null,
   "id": "c5b214475a496ca5",
   "metadata": {
    "ExecuteTime": {
     "end_time": "2024-01-26T17:50:59.733968Z",
     "start_time": "2024-01-26T17:50:59.730635Z"
    },
    "collapsed": false
   },
   "outputs": [],
   "source": [
    "# Your Code Here"
   ]
  },
  {
   "cell_type": "markdown",
   "id": "a648758ebea0561d",
   "metadata": {
    "collapsed": false
   },
   "source": [
    "## Task 4: Model Enhancement (Complete or Incomplete)\n",
    "### Task 4a: Implementation of at least one advanced technique\n",
    "\n",
    "- Now it's time to improve your model. Implement at least one technique to improve your model's performance. You can use any of the techniques we have covered in class, or you can use a technique that we haven't covered. If you need inspiration, you can refer to the [Keras documentation](https://keras.io/).\n",
    "- Explain the technique you used and why you chose it.\n",
    "- If you used a technique that requires tuning, explain how you selected the values for the hyperparameters."
   ]
  },
  {
   "cell_type": "code",
   "execution_count": null,
   "id": "f3659ac83122567f",
   "metadata": {
    "collapsed": false
   },
   "outputs": [],
   "source": [
    "# Your Code Here"
   ]
  },
  {
   "cell_type": "markdown",
   "id": "d9467a483a1dd5d3",
   "metadata": {
    "collapsed": false
   },
   "source": [
    "### Task 4b: Evaluation of the enhanced model\n",
    "\n",
    "- Re-train your model using the same number of epochs as before.\n",
    "- Compare the accuracy and other selected metric on the test set to the results you obtained before.\n",
    "- As before, plot the training accuracy and validation accuracy with respect to epochs, and select an image that the model correctly classified in the test set, and an image that the model incorrectly classified in the test set. Plot the images and report the model's classification probabilities for each."
   ]
  },
  {
   "cell_type": "code",
   "execution_count": null,
   "id": "7c4701b36dc8fc55",
   "metadata": {
    "collapsed": false
   },
   "outputs": [],
   "source": [
    "# Your Code Here"
   ]
  },
  {
   "cell_type": "markdown",
   "id": "eadfc848700215e8",
   "metadata": {
    "collapsed": false
   },
   "source": [
    "### Task 4c: Discussion of the results\n",
    "\n",
    "- Briefly discuss the results. \n",
    "- Did the model's performance improve? \n",
    "- Why do you think this is?\n",
    "- Do you think there is room for further improvement? Why or why not?\n",
    "- What other techniques might you try in the future?\n",
    "- Your answer should be no more than 200 words.\n",
    "\n",
    "# Your answer here"
   ]
  },
  {
   "cell_type": "markdown",
   "id": "7415f68f",
   "metadata": {},
   "source": [
    "## Criteria\n",
    "\n",
    "|Criteria|Complete|Incomplete|\n",
    "|----|----|----|\n",
    "|Task 1|The task has been completed successfully and there are no errors.|The task is still incomplete and there is at least one error.|\n",
    "|Task 2|The task has been completed successfully and there are no errors.|The task is still incomplete and there is at least one error.|\n",
    "|Task 3|The task has been completed successfully and there are no errors.|The task is still incomplete and there is at least one error.|\n",
    "|Task 4|The task has been completed successfully and there are no errors.|The task is still incomplete and there is at least one error.|"
   ]
  },
  {
   "cell_type": "markdown",
   "id": "ad0c10bc",
   "metadata": {},
   "source": [
    "## Submission Information\n",
    "\n",
    "🚨 **Please review our [Assignment Submission Guide](https://github.com/UofT-DSI/onboarding/blob/main/onboarding_documents/submissions.md)** 🚨 for detailed instructions on how to format, branch, and submit your work. Following these guidelines is crucial for your submissions to be evaluated correctly.\n",
    "\n",
    "### Submission Parameters:\n",
    "* Submission Due Date: `HH:MM AM/PM - DD/MM/YYYY`\n",
    "* The branch name for your repo should be: `assignment-1`\n",
    "* What to submit for this assignment:\n",
    "    * This Jupyter Notebook (assignment_1.ipynb) should be populated and should be the only change in your pull request.\n",
    "* What the pull request link should look like for this assignment: `https://github.com/<your_github_username>/deep_learning/pull/<pr_id>`\n",
    "    * Open a private window in your browser. Copy and paste the link to your pull request into the address bar. Make sure you can see your pull request properly. This helps the technical facilitator and learning support staff review your submission easily.\n",
    "\n",
    "Checklist:\n",
    "- [ ] Created a branch with the correct naming convention.\n",
    "- [ ] Ensured that the repository is public.\n",
    "- [ ] Reviewed the PR description guidelines and adhered to them.\n",
    "- [ ] Verify that the link is accessible in a private browser window.\n",
    "\n",
    "If you encounter any difficulties or have questions, please don't hesitate to reach out to our team via our Slack at `#cohort-3-help`. Our Technical Facilitators and Learning Support staff are here to help you navigate any challenges."
   ]
  }
 ],
 "metadata": {
  "kernelspec": {
   "display_name": "dsi_participant",
   "language": "python",
   "name": "python3"
  },
  "language_info": {
   "codemirror_mode": {
    "name": "ipython",
    "version": 3
   },
   "file_extension": ".py",
   "mimetype": "text/x-python",
   "name": "python",
   "nbconvert_exporter": "python",
   "pygments_lexer": "ipython3",
   "version": "3.9.15"
  }
 },
 "nbformat": 4,
 "nbformat_minor": 5
}
